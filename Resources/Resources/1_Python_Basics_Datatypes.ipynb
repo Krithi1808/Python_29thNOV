{
 "cells": [
  {
   "cell_type": "markdown",
   "id": "126d2e2b",
   "metadata": {},
   "source": [
    "# <center>Python Basics<center/> \n",
    "<img height=\"60\" width=\"120\" src=\"https://www.python.org/static/img/python-logo-large.png?1414305901\"></img>"
   ]
  },
  {
   "cell_type": "markdown",
   "id": "cfdf8470",
   "metadata": {},
   "source": [
    "<b>Welcome</b> to Python tutorial. For your benefit we have broken down the entire tutorial into multiple parts so that you can take it step by step. Please learn Python in the sequence of the notebooks and topic wise as per the Table Of Contents.\n",
    "\n",
    "Wish you a Happy Learning!\n",
    "<br/>\n",
    "<br/>\n",
    "<br/>\n",
    "<br/>"
   ]
  },
  {
   "cell_type": "markdown",
   "id": "a3fb2c00",
   "metadata": {},
   "source": [
    "# 1. Python Keywords"
   ]
  },
  {
   "cell_type": "markdown",
   "id": "2bf67ad9",
   "metadata": {},
   "source": [
    "Keywords in Python are reservered words that cannot be used as ordinary\n",
    "identifiers.<p/>\n",
    "They must be spelled exacty as they are written. <p/>\n"
   ]
  },
  {
   "cell_type": "markdown",
   "id": "2bd9b3f7",
   "metadata": {},
   "source": [
    "<table width='100%'>\n",
    "<tr><th>and</tc><th>del</tc><th>from</tc><th>not</tc><th>while</tc></tr>\n",
    "<tr><th>as</tc><th> elif</tc><th>global</tc><th>or</tc><th> with</tc></tr>\n",
    "<tr><th>assert</tc><th>else</tc><th>if</tc><th> pass</tc><th>yield</tc></tr>\n",
    "<tr><th>break</tc><th> except</tc><th>import</tc><th>print</tc></tr>\n",
    "<tr><th>class</tc><th> exec</tc><th>in</tc><th> raise</tc></tr>\n",
    "<tr><th>continue</tc><th>finally</tc><th> is</tc><th> return </tc></tr>\n",
    "<tr><th>def</tc><th>for</tc><th>lambda</tc><th>try</tc></tr>\n",
    "</table>"
   ]
  },
  {
   "cell_type": "code",
   "execution_count": 1,
   "id": "03fb7d43",
   "metadata": {},
   "outputs": [
    {
     "name": "stdout",
     "output_type": "stream",
     "text": [
      "['False', 'None', 'True', 'and', 'as', 'assert', 'async', 'await', 'break', 'class', 'continue', 'def', 'del', 'elif', 'else', 'except', 'finally', 'for', 'from', 'global', 'if', 'import', 'in', 'is', 'lambda', 'nonlocal', 'not', 'or', 'pass', 'raise', 'return', 'try', 'while', 'with', 'yield']\n"
     ]
    }
   ],
   "source": [
    "#To extract all keywords in python use the below code\n",
    "\n",
    "import keyword\n",
    "\n",
    "print(keyword.kwlist)"
   ]
  },
  {
   "cell_type": "code",
   "execution_count": 2,
   "id": "ccab5c9e",
   "metadata": {},
   "outputs": [
    {
     "name": "stdout",
     "output_type": "stream",
     "text": [
      "keywords in python are: 35\n"
     ]
    }
   ],
   "source": [
    "# Number of keywords are \n",
    "print(\"keywords in python are:\", len(keyword.kwlist))"
   ]
  },
  {
   "cell_type": "markdown",
   "id": "9d6cd4d2",
   "metadata": {
    "collapsed": true
   },
   "source": [
    "# 2. Identifiers"
   ]
  },
  {
   "cell_type": "markdown",
   "id": "8c4bf697",
   "metadata": {},
   "source": [
    "Identifiers (also referred to as names) is given to entities like class, functions, variables etc. in Python. It helps differentiating one entity from another."
   ]
  },
  {
   "cell_type": "markdown",
   "id": "1afe3284",
   "metadata": {},
   "source": [
    "Rules for Writing Identifiers:\n",
    "\n",
    "1. Identifiers can be a combination of letters in lowercase (a to z) or uppercase (A to Z) or digits (0 to 9) or an underscore (_).\n",
    "\n",
    "2. An identifier cannot start with a digit. <i>'99somename'</i> is invalid, but <i>'somename99'</i> is perfectly fine.\n",
    "\n",
    "3. Keywords cannot be used as identifiers."
   ]
  },
  {
   "cell_type": "code",
   "execution_count": 3,
   "id": "32d7161f",
   "metadata": {},
   "outputs": [
    {
     "ename": "SyntaxError",
     "evalue": "invalid decimal literal (250690872.py, line 1)",
     "output_type": "error",
     "traceback": [
      "\u001b[1;36m  Input \u001b[1;32mIn [3]\u001b[1;36m\u001b[0m\n\u001b[1;33m    99somename = 100      # Wrong way of defining identifiers\u001b[0m\n\u001b[1;37m     ^\u001b[0m\n\u001b[1;31mSyntaxError\u001b[0m\u001b[1;31m:\u001b[0m invalid decimal literal\n"
     ]
    }
   ],
   "source": [
    "99somename = 100      # Wrong way of defining identifiers"
   ]
  },
  {
   "cell_type": "code",
   "execution_count": 4,
   "id": "df33c65b",
   "metadata": {},
   "outputs": [
    {
     "name": "stdout",
     "output_type": "stream",
     "text": [
      "100\n"
     ]
    }
   ],
   "source": [
    "somename99 = 100      # Right way of defining identifiers\n",
    "print(somename99)"
   ]
  },
  {
   "cell_type": "code",
   "execution_count": 5,
   "id": "f0e4dad3",
   "metadata": {},
   "outputs": [
    {
     "ename": "SyntaxError",
     "evalue": "invalid syntax (2614876463.py, line 1)",
     "output_type": "error",
     "traceback": [
      "\u001b[1;36m  Input \u001b[1;32mIn [5]\u001b[1;36m\u001b[0m\n\u001b[1;33m    break = 1             # Cannot use keyword as identifiers\u001b[0m\n\u001b[1;37m          ^\u001b[0m\n\u001b[1;31mSyntaxError\u001b[0m\u001b[1;31m:\u001b[0m invalid syntax\n"
     ]
    }
   ],
   "source": [
    "break = 1             # Cannot use keyword as identifiers"
   ]
  },
  {
   "cell_type": "markdown",
   "id": "59fd0681",
   "metadata": {},
   "source": [
    " We cannot use special symbols like !, @, #, $, % etc. in our identifier."
   ]
  },
  {
   "cell_type": "code",
   "execution_count": 6,
   "id": "b07bce80",
   "metadata": {},
   "outputs": [
    {
     "ename": "SyntaxError",
     "evalue": "invalid syntax (1686789011.py, line 1)",
     "output_type": "error",
     "traceback": [
      "\u001b[1;36m  Input \u001b[1;32mIn [6]\u001b[1;36m\u001b[0m\n\u001b[1;33m    hello@ = 10           #can't use special symbols as an identifier\u001b[0m\n\u001b[1;37m           ^\u001b[0m\n\u001b[1;31mSyntaxError\u001b[0m\u001b[1;31m:\u001b[0m invalid syntax\n"
     ]
    }
   ],
   "source": [
    "hello@ = 10           #can't use special symbols as an identifier"
   ]
  },
  {
   "cell_type": "markdown",
   "id": "d724b8c4",
   "metadata": {},
   "source": [
    "# 3. Comments in Python"
   ]
  },
  {
   "cell_type": "markdown",
   "id": "056ee374",
   "metadata": {},
   "source": [
    "A comment may appear at the start of a line or following whitespace or code, but not within a string literal.<br/>\n",
    "A hash character within a string literal is just a hash character.<br/>\n",
    "Comments are lines that are ignored by compilers and interpreters. <br/>\n",
    "### This is one of the best way to convey the idea behind the code and people reusing your code can easily make sense of your code"
   ]
  },
  {
   "cell_type": "markdown",
   "id": "12f79bba",
   "metadata": {},
   "source": [
    "### Single line comment"
   ]
  },
  {
   "cell_type": "code",
   "execution_count": 7,
   "id": "3a91aadf",
   "metadata": {},
   "outputs": [],
   "source": [
    "# This is a single line comment. Has no effect on the code below\n",
    "abd = 10"
   ]
  },
  {
   "cell_type": "markdown",
   "id": "3922c8b4",
   "metadata": {},
   "source": [
    "### Multi line comment"
   ]
  },
  {
   "cell_type": "code",
   "execution_count": 8,
   "id": "b1634593",
   "metadata": {},
   "outputs": [],
   "source": [
    "# You can write multiple lines of comment by putting a '#' at the beginning\n",
    "# You can write multiple lines of comment by putting a '#' at the beginning\n",
    "# You can write multiple lines of comment by putting a '#' at the beginning"
   ]
  },
  {
   "cell_type": "code",
   "execution_count": 9,
   "id": "a96b374c",
   "metadata": {},
   "outputs": [
    {
     "data": {
      "text/plain": [
       "'\\nA better option to write multi line comment is by adding all your \\ntext between a set of 3-single or 3-double quotes. Like we have done here\\n'"
      ]
     },
     "execution_count": 9,
     "metadata": {},
     "output_type": "execute_result"
    }
   ],
   "source": [
    "'''\n",
    "A better option to write multi line comment is by adding all your \n",
    "text between a set of 3-single or 3-double quotes. Like we have done here\n",
    "'''"
   ]
  },
  {
   "cell_type": "markdown",
   "id": "3bf0697f",
   "metadata": {
    "collapsed": true
   },
   "source": [
    "# 4. Data Types"
   ]
  },
  {
   "cell_type": "code",
   "execution_count": 10,
   "id": "d4220e2e",
   "metadata": {},
   "outputs": [
    {
     "data": {
      "image/png": "[encoded data removed]",
      "text/plain": [
       "<IPython.core.display.Image object>"
      ]
     },
     "execution_count": 10,
     "metadata": {},
     "output_type": "execute_result"
    }
   ],
   "source": [
    "from IPython.display import Image\n",
    "Image(\"Datatypes.png\")\n",
    "\n"
   ]
  },
  {
   "cell_type": "markdown",
   "id": "1bf931c4",
   "metadata": {},
   "source": [
    "### 4.1 Python Numeric Trypes"
   ]
  },
  {
   "cell_type": "markdown",
   "id": "8cc65327",
   "metadata": {},
   "source": [
    "<b>Integers, floating point numbers and complex numbers</b>\n",
    "falls under Python numbers category. They are defined as int, float and complex class in Python.\n",
    "\n",
    "We can use the <b>type()</b> function to know which class a variable or a value belongs to <br/> and the <b>isinstance()</b> function to check if an object belongs to a particular class."
   ]
  },
  {
   "cell_type": "code",
   "execution_count": 11,
   "id": "8e099f94",
   "metadata": {},
   "outputs": [
    {
     "name": "stdout",
     "output_type": "stream",
     "text": [
      "12  is of type <class 'int'>\n"
     ]
    }
   ],
   "source": [
    "data1 = 12                               # integer data type\n",
    "print(data1, \" is of type\", type(data1))"
   ]
  },
  {
   "cell_type": "code",
   "execution_count": 12,
   "id": "4cf6fa56",
   "metadata": {},
   "outputs": [
    {
     "name": "stdout",
     "output_type": "stream",
     "text": [
      "12.5  is of type <class 'float'>\n"
     ]
    }
   ],
   "source": [
    "data2 = 12.5                            # float data type\n",
    "print(data2, \" is of type\", type(data2))"
   ]
  },
  {
   "cell_type": "code",
   "execution_count": 13,
   "id": "bd86b691",
   "metadata": {},
   "outputs": [
    {
     "name": "stdout",
     "output_type": "stream",
     "text": [
      "(100+20j)  is complex number? True\n"
     ]
    }
   ],
   "source": [
    "data3 = 100 + 20j                          #data type is changed to complex number\n",
    "print(data3, \" is complex number?\", isinstance(data3, complex))"
   ]
  },
  {
   "cell_type": "markdown",
   "id": "591500f2",
   "metadata": {},
   "source": [
    "### Boolean"
   ]
  },
  {
   "cell_type": "markdown",
   "id": "81a97522",
   "metadata": {},
   "source": [
    "Boolean represents True or False values"
   ]
  },
  {
   "cell_type": "code",
   "execution_count": 14,
   "id": "c3ad0b50",
   "metadata": {},
   "outputs": [
    {
     "name": "stdout",
     "output_type": "stream",
     "text": [
      "<class 'bool'>\n"
     ]
    }
   ],
   "source": [
    "booleanVariable = True                          # 'booleanVariable' is a boolean type & True is a keyword\n",
    "print(type(booleanVariable))"
   ]
  },
  {
   "cell_type": "markdown",
   "id": "c55cf0ad",
   "metadata": {},
   "source": [
    "### 4.2 Python Strings"
   ]
  },
  {
   "cell_type": "markdown",
   "id": "9d4c713e",
   "metadata": {},
   "source": [
    "String is sequence of Unicode characters. We can use single quotes or double quotes to represent strings. <br/>\n",
    "Multi-line strings can be denoted using triple quotes(single/double), <b>''' or \"\"\". </b><br/>\n",
    "\n",
    "A string in Python consists of a series or <u>sequence of characters</u> - <b>letters, numbers, and special characters.</b>\n",
    "\n",
    "Strings can be indexed - often synonymously called subscripted as well.\n",
    "\n",
    "The first character of a string has the index 0."
   ]
  },
  {
   "cell_type": "code",
   "execution_count": 15,
   "id": "459bcf20",
   "metadata": {},
   "outputs": [
    {
     "name": "stdout",
     "output_type": "stream",
     "text": [
      "Single\n",
      "Double\n",
      "first line\n",
      "second line\n",
      "third line\n",
      "\n"
     ]
    }
   ],
   "source": [
    "myString = 'Single'\n",
    "print(myString)\n",
    "\n",
    "myString = \"Double\"\n",
    "print(myString)\n",
    "\n",
    "myString = '''first line\n",
    "second line\n",
    "third line\n",
    "'''\n",
    "print(myString)"
   ]
  },
  {
   "cell_type": "markdown",
   "id": "160849ec",
   "metadata": {},
   "source": [
    "## Accessing elements of Strings\n",
    "\n",
    "### 1. Indexing\n",
    "### 2. Slicing"
   ]
  },
  {
   "cell_type": "code",
   "execution_count": 16,
   "id": "6d5e88f2",
   "metadata": {},
   "outputs": [
    {
     "data": {
      "image/png": "[encoded data removed]",
      "text/plain": [
       "<IPython.core.display.Image object>"
      ]
     },
     "execution_count": 16,
     "metadata": {},
     "output_type": "execute_result"
    }
   ],
   "source": [
    "from IPython.display import Image\n",
    "Image(\"Index.png\")"
   ]
  },
  {
   "cell_type": "markdown",
   "id": "8c810c7b",
   "metadata": {
    "collapsed": true
   },
   "source": [
    "### Indexing - One character at a time\n",
    "\n",
    "- Access individual characters using indexing and a range of characters using slicing.\n",
    "\n",
    "- Index starts from 0. \n",
    "\n",
    "- Trying to access a character out of index range will raise an IndexError. \n",
    "\n",
    "- The index must be an integer. We can't use float or other types, this will result into TypeError.\n",
    "\n",
    "- Python allows negative indexing for its sequences."
   ]
  },
  {
   "cell_type": "code",
   "execution_count": 17,
   "id": "bd0b1e98",
   "metadata": {},
   "outputs": [
    {
     "name": "stdout",
     "output_type": "stream",
     "text": [
      "D\n",
      "u\n",
      "e\n"
     ]
    }
   ],
   "source": [
    "myString = \"Double\"\n",
    "\n",
    "print(myString[0])             # Print first Character\n",
    "\n",
    "print(myString[2])           \n",
    "\n",
    "print(myString[-1])            # Print last character using negative indexing"
   ]
  },
  {
   "cell_type": "markdown",
   "id": "fc3ec321",
   "metadata": {},
   "source": [
    "## Slicing - Subset of Characters"
   ]
  },
  {
   "cell_type": "code",
   "execution_count": 18,
   "id": "3b73b313",
   "metadata": {},
   "outputs": [
    {
     "name": "stdout",
     "output_type": "stream",
     "text": [
      "wor\n",
      "wor\n",
      "wor\n",
      "row\n",
      "row\n",
      "row\n"
     ]
    }
   ],
   "source": [
    "# accessing subset of characters\n",
    "\n",
    "#forward slicing\n",
    "\n",
    "s=\"helloworld\"  #hlool\n",
    "#  0123456789\n",
    "#-10987654321\n",
    "\n",
    "#goal: wor\n",
    "#forward slicing\n",
    "#1. Slice from left to right check\n",
    "#2. Decide on the positive step value\n",
    "#3. Decide on start and stop\n",
    "\n",
    "#start and stop - +ve\n",
    "print(s[ 5 : 8: 1])  #-->5,6,7  [5+1=6+1=7+1=8]\n",
    "\n",
    "#start and stop  -ve\n",
    "print(s[-5:-2:1]) #-5,-4,-3  [-5+1 =-4, -4+1=-3, -3+1=-2]\n",
    "\n",
    "#start and stop - both +ve and -ve\n",
    "print(s[5:-2:1])\n",
    "\n",
    "\n",
    "\n",
    "#goal: row\n",
    "#Backward Slicing\n",
    "#1. Slice is from right to left - CHeck\n",
    "#2. Decide upon the negative step value\n",
    "#3. Decide upon the start and stop\n",
    "\n",
    "\n",
    "s=\"helloworld\"\n",
    "#  0123456789\n",
    "#-10987654321\n",
    "\n",
    "\n",
    "#start and stop - +ve\n",
    "print(s[ 7:4 :-1 ]) #7,6,5  # 7-1=6-1=5-1=4\n",
    "\n",
    "#start and stop  -ve\n",
    "print(s[  -3:-6 : -1])  #-3,-4,-5  #[ -3-1=-4  -4-1=-5 ]\n",
    "\n",
    "\n",
    "#start and stop - both +ve and -ve\n",
    "\n",
    "print(s[7:-6:-1])\n",
    "\n",
    "\n",
    "\n",
    "\n"
   ]
  },
  {
   "cell_type": "markdown",
   "id": "679ac76e",
   "metadata": {},
   "source": [
    "## String Methods"
   ]
  },
  {
   "cell_type": "markdown",
   "id": "48a549ba",
   "metadata": {},
   "source": [
    "Some of the commonly used methods are<br/> \n",
    "<b>lower(), upper(), join(), split(), find(), replace() </b>etc"
   ]
  },
  {
   "cell_type": "code",
   "execution_count": 19,
   "id": "136ccd7d",
   "metadata": {},
   "outputs": [
    {
     "name": "stdout",
     "output_type": "stream",
     "text": [
      "python\n",
      "PYTHON\n",
      "['Split', 'this', 'line', 'into', 'a', 'list']\n",
      "Split this line into a list\n",
      "13\n",
      "Python Programming\n",
      "Python Program\n"
     ]
    }
   ],
   "source": [
    "print(\"Python\".lower() )                                                  # lower\n",
    "\n",
    "print(\"Python\".upper()   )                                                   # upper\n",
    "\n",
    "print(\"Split this line into a list\".split()      )                           # split\n",
    "\n",
    "print(' '.join(['Split', 'this', 'line', 'into', 'a', 'list'])   )           # join\n",
    "\n",
    "print(\"Python Programming\".find('mm') )                                      # find\n",
    "\n",
    "myString1 = \"Python Programming\"\n",
    "\n",
    "myString2 = myString1.replace('Programming','Program')                # Replace a word\n",
    "\n",
    "print(myString1)\n",
    "print(myString2)\n"
   ]
  },
  {
   "cell_type": "markdown",
   "id": "78bc62fa",
   "metadata": {},
   "source": [
    "### 4.3 Lists"
   ]
  },
  {
   "cell_type": "markdown",
   "id": "49b172ad",
   "metadata": {},
   "source": [
    "### Python List"
   ]
  },
  {
   "cell_type": "markdown",
   "id": "4e0a1efc",
   "metadata": {},
   "source": [
    "List is an <u>ordered sequence</u> of items. It is one of the most used datatype in Python and is very flexible. \n",
    "\n",
    "\n",
    "\n",
    "Declaring a list is pretty straight forward. Items separated by commas are enclosed within square brackets <b>'[ ]'</b>.\n",
    "\n",
    "\n",
    "- Heterogeneous =>All the items in a list do not need to be of the same type.\n",
    "- Mutable \n",
    "- Ordered\n",
    "- Can be nested\n"
   ]
  },
  {
   "cell_type": "code",
   "execution_count": 20,
   "id": "52b69923",
   "metadata": {},
   "outputs": [
    {
     "name": "stdout",
     "output_type": "stream",
     "text": [
      "[1, 2.2, 'ThirdElement', 12, 24, 'More values']\n"
     ]
    }
   ],
   "source": [
    "myList = [1, 2.2, \"ThirdElement\",12,24,\"More values\"]\n",
    "print(myList)           "
   ]
  },
  {
   "cell_type": "code",
   "execution_count": 21,
   "id": "2ce3f98d",
   "metadata": {},
   "outputs": [
    {
     "name": "stdout",
     "output_type": "stream",
     "text": [
      "ThirdElement\n"
     ]
    }
   ],
   "source": [
    "print(myList[2])                     # Print an element based on its index. Index starts from 0"
   ]
  },
  {
   "cell_type": "markdown",
   "id": "c77f59a3",
   "metadata": {},
   "source": [
    "Lists are mutable, which means, value of elements of a list can be changed."
   ]
  },
  {
   "cell_type": "code",
   "execution_count": 22,
   "id": "a65e8cf5",
   "metadata": {},
   "outputs": [
    {
     "name": "stdout",
     "output_type": "stream",
     "text": [
      "[1, 2.2, 'ElementThree', 12, 24, 'More values']\n"
     ]
    }
   ],
   "source": [
    "myList[2] = \"ElementThree\"\n",
    "print(myList) "
   ]
  },
  {
   "cell_type": "markdown",
   "id": "911e1d93",
   "metadata": {},
   "source": [
    "### List Methods"
   ]
  },
  {
   "cell_type": "code",
   "execution_count": 23,
   "id": "986d094d",
   "metadata": {},
   "outputs": [
    {
     "name": "stdout",
     "output_type": "stream",
     "text": [
      "2024040724864\n",
      "[1, 2, 5, 6, 7]\n",
      "[1, 2, 5, 6]\n"
     ]
    }
   ],
   "source": [
    "list_1=[1,5,6]\n",
    "print(id(list_1))\n",
    "\n",
    "#append--> add elements in the end\n",
    "list_1.append(7)\n",
    "\n",
    "\n",
    "#insert--> insert the element at the specified position\n",
    "list_1.insert(1,2)\n",
    "print(list_1)\n",
    "\n",
    "\n",
    "\n",
    "\n",
    "\n",
    "#remove\n",
    "list_1.remove(7)\n",
    "print(list_1)"
   ]
  },
  {
   "cell_type": "markdown",
   "id": "2ec2e9c0",
   "metadata": {},
   "source": [
    "### 4.4 Python Tuple"
   ]
  },
  {
   "cell_type": "markdown",
   "id": "669b0931",
   "metadata": {},
   "source": [
    "Tuple is an <u>ordered sequence</u> of items same as list. <br/>\n",
    "The only difference is that tuples are <u>immutable</u>. <b>Tuples once created cannot be modified</b>.\n",
    "\n",
    "Tuples are used to write-protect data and are usually faster than list as it cannot change dynamically.\n",
    "\n",
    "It is defined within parentheses <b>()</b> where items are separated by commas.\n",
    "\n",
    "\n",
    "- Heterogeneous \n",
    "- Immutable \n",
    "- Ordered\n",
    "- Can be nested\n"
   ]
  },
  {
   "cell_type": "code",
   "execution_count": 24,
   "id": "801bf6ae",
   "metadata": {},
   "outputs": [],
   "source": [
    "myTuple = (10,20,30,\"Text\")"
   ]
  },
  {
   "cell_type": "code",
   "execution_count": 25,
   "id": "b782c476",
   "metadata": {},
   "outputs": [
    {
     "name": "stdout",
     "output_type": "stream",
     "text": [
      "30\n"
     ]
    }
   ],
   "source": [
    "print(myTuple[2])                 # Read elements by their corresponding index values"
   ]
  },
  {
   "cell_type": "code",
   "execution_count": 26,
   "id": "166b7bb1",
   "metadata": {},
   "outputs": [
    {
     "ename": "TypeError",
     "evalue": "'tuple' object does not support item assignment",
     "output_type": "error",
     "traceback": [
      "\u001b[1;31m---------------------------------------------------------------------------\u001b[0m",
      "\u001b[1;31mTypeError\u001b[0m                                 Traceback (most recent call last)",
      "Input \u001b[1;32mIn [26]\u001b[0m, in \u001b[0;36m<cell line: 1>\u001b[1;34m()\u001b[0m\n\u001b[1;32m----> 1\u001b[0m \u001b[43mmyTuple\u001b[49m\u001b[43m[\u001b[49m\u001b[38;5;241;43m2\u001b[39;49m\u001b[43m]\u001b[49m \u001b[38;5;241m=\u001b[39m \u001b[38;5;241m120\u001b[39m\n",
      "\u001b[1;31mTypeError\u001b[0m: 'tuple' object does not support item assignment"
     ]
    }
   ],
   "source": [
    "myTuple[2] = 120   #immutable"
   ]
  },
  {
   "cell_type": "markdown",
   "id": "d81741e7",
   "metadata": {},
   "source": [
    "### Tuple Methods\n",
    "\n",
    "- Count\n",
    "- Index"
   ]
  },
  {
   "cell_type": "code",
   "execution_count": null,
   "id": "2646edc2",
   "metadata": {},
   "outputs": [],
   "source": [
    "tuple1=(3,4,5,5,6)\n",
    "print(tuple1.count(5))\n",
    "\n",
    "print(tuple1.index(4))"
   ]
  },
  {
   "cell_type": "markdown",
   "id": "3f6c8898",
   "metadata": {},
   "source": [
    "### 4.5 Python Set"
   ]
  },
  {
   "cell_type": "markdown",
   "id": "e7f47228",
   "metadata": {},
   "source": [
    "Set is an <u>unordered collection</u> of unique items. <br/>\n",
    "Set is defined by values separated by comma inside curly braces <b>{ }</b>. <br/>\n",
    "\n",
    "- Heterogeneous \n",
    "- Mutable \n",
    "- Unordered\n",
    "- Does not allow duplicates\n",
    "- No indexing or slicing\n"
   ]
  },
  {
   "cell_type": "code",
   "execution_count": null,
   "id": "4017e7bb",
   "metadata": {},
   "outputs": [],
   "source": [
    "mySet = {10, 20, 30, 40, 50}\n",
    "print(mySet)"
   ]
  },
  {
   "cell_type": "code",
   "execution_count": null,
   "id": "64576a7b",
   "metadata": {},
   "outputs": [],
   "source": [
    "mySet = {10, 20, 20, 30, 30}       # Only unique values considered, duplicates removed automatically\n",
    "print(mySet)"
   ]
  },
  {
   "cell_type": "code",
   "execution_count": null,
   "id": "eadbbf46",
   "metadata": {},
   "outputs": [],
   "source": [
    "print(type(mySet))                 # Check the type of the variable"
   ]
  },
  {
   "cell_type": "code",
   "execution_count": null,
   "id": "7e651c67",
   "metadata": {},
   "outputs": [],
   "source": [
    "print(mySet[0])                    # Cannot print any particular element in a set because \n",
    "                                   # it's an unorder collections of items"
   ]
  },
  {
   "cell_type": "markdown",
   "id": "a02e4c0b",
   "metadata": {},
   "source": [
    "### 4.6 Python Dictionary"
   ]
  },
  {
   "cell_type": "markdown",
   "id": "98842200",
   "metadata": {},
   "source": [
    "<b>Dictionary</b> is an <u>unordered collection</u> of <b>key-value</b> pairs.\n",
    "\n",
    "It is generally used when we have a huge amount of data.<br/> \n",
    "Dictionaries are optimized for retrieving data. <br/>\n",
    "We must know the <b>key</b> to retrieve the <b>value</b>.\n",
    "\n",
    "In Python, dictionaries are defined within curly braces <b>{}</b> <br/>\n",
    "with each item being a pair in the form <b>key:value</b>. <br/>\n",
    "<b>Key and value</b> can be of <u>any type</u>.\n",
    "\n",
    "\n",
    "#### Properties of Key\n",
    "- Heterogeneous \n",
    "- Immutable \n",
    "- Does not allow duplicates\n",
    "#### Properties of Values\n",
    "- Heterogeneous \n",
    "- Mutable and Immutable \n",
    "- Allow duplicates\n"
   ]
  },
  {
   "cell_type": "code",
   "execution_count": null,
   "id": "51b9efed",
   "metadata": {},
   "outputs": [],
   "source": [
    "myDictionary = {'key1': \"value1\", 'key2': \"value2\", 'key3': \"value3\",}\n",
    "print(myDictionary['key2'])"
   ]
  },
  {
   "cell_type": "markdown",
   "id": "36467870",
   "metadata": {},
   "source": [
    "#### Dictionary Methods"
   ]
  },
  {
   "cell_type": "code",
   "execution_count": null,
   "id": "7ef709d6",
   "metadata": {},
   "outputs": [],
   "source": [
    "\n",
    "dict1={\"Python\":\"Krihtika\",\"Java\":[\"Sayan\",\"Shubham\"]}\n",
    "\n",
    "#accessing the values with keys\n",
    "print(dict1[\"Python\"])  # error when key is not present\n",
    "print(dict1.get(\"Python1\")) # Returns None when key is not present\n",
    "\n",
    "print(\"------------------------------\")\n",
    "#add element or update elemnt\n",
    "dict1.update({\"Angular\":\"Oula\"})\n",
    "print(dict1)\n",
    "\n",
    "dict1.update({\"Angular\":\"Scott\"})\n",
    "print(dict1)\n",
    "print(\"------------------------------\")\n",
    "\n",
    "#pop\n",
    "popped_element=dict1.pop(\"Angular\")\n",
    "print(dict1)\n",
    "print(f\"popped element:{popped_element}\")\n",
    "print(\"------------------------------\")\n",
    "\n",
    "#popitem\n",
    "#stack --> LIFO (Last in First Out)\n",
    "popped_item=dict1.popitem()\n",
    "print(dict1)\n",
    "print(f\"Popped Item:{popped_item}\")"
   ]
  },
  {
   "cell_type": "markdown",
   "id": "ad0f261a",
   "metadata": {},
   "source": [
    "# 5. Decision making\n",
    "\n",
    "- if..else\n",
    "- if..elif..else\n"
   ]
  },
  {
   "cell_type": "code",
   "execution_count": 27,
   "id": "24e50552",
   "metadata": {},
   "outputs": [
    {
     "name": "stdout",
     "output_type": "stream",
     "text": [
      "Great\n",
      "A Grade\n",
      "You have won a scholarship\n"
     ]
    }
   ],
   "source": [
    "marks=96\n",
    "\n",
    "if marks>=90 and marks<=100:\n",
    "    print(\"Great\")\n",
    "    print(\"A Grade\")\n",
    "    if marks>=95:\n",
    "        print(\"You have won a scholarship\")\n",
    "    else:\n",
    "        print(\"Excellent\")\n",
    "\n",
    "elif marks>=70 and marks<=89:\n",
    "    print(\"B Grade\")\n",
    "\n",
    "elif marks>=50 and marks<=69:\n",
    "    print(\"C Grade\")\n",
    "\n",
    "elif marks>=35 and marks<=49:\n",
    "    print(\"D Grade\")\n",
    "else:\n",
    "    print(\"Please improve. Better luck next time\")\n"
   ]
  },
  {
   "cell_type": "markdown",
   "id": "3e2d7581",
   "metadata": {},
   "source": [
    "# 6. Loops"
   ]
  },
  {
   "cell_type": "code",
   "execution_count": 28,
   "id": "e5a0c832",
   "metadata": {},
   "outputs": [
    {
     "name": "stdout",
     "output_type": "stream",
     "text": [
      "w\n",
      "e\n",
      "l\n",
      "c\n",
      "o\n",
      "m\n",
      "e\n",
      "1\n",
      "3\n",
      "5\n",
      "7\n",
      "9\n",
      "----------------BREAK - Exits loop----------------------\n",
      "1\n",
      "2\n",
      "3\n",
      "4\n",
      "5\n",
      "6\n",
      "7\n",
      "---------------CONTINUE - Skip Iteration ----------------------\n",
      "1\n",
      "2\n",
      "3\n",
      "4\n",
      "5\n",
      "6\n",
      "7\n",
      "9\n"
     ]
    }
   ],
   "source": [
    "# For loops\n",
    "\n",
    "\n",
    "for i in \"welcome\":\n",
    "    print(i)\n",
    "\n",
    "#range(startindex,stopindex,step value)\n",
    "#-->1,2,3,4,5,6,7,8,9\n",
    "\n",
    "\n",
    "for i in range(1,10,2) :   #for i=1, i<10; i++\n",
    "    print(i)\n",
    "\n",
    "print(\"----------------BREAK - Exits loop----------------------\")\n",
    "\n",
    "for i in range(1,10,1) :   #for i=1, i<10; i++\n",
    "    if i==8:\n",
    "        break\n",
    "    print(i)\n",
    "\n",
    "print(\"---------------CONTINUE - Skip Iteration ----------------------\")\n",
    "for i in range(1,10,1) :   #for i=1, i<10; i++\n",
    "    if i==8:\n",
    "        continue\n",
    "    print(i)"
   ]
  },
  {
   "cell_type": "code",
   "execution_count": 29,
   "id": "395c9402",
   "metadata": {},
   "outputs": [
    {
     "name": "stdout",
     "output_type": "stream",
     "text": [
      "5\n",
      "6\n",
      "7\n",
      "8\n",
      "9\n",
      "----------------BREAK - Exit Loop-----------\n",
      "5\n",
      "6\n",
      "--------Continue - Skips Iteration----------\n",
      "5\n",
      "6\n",
      "8\n",
      "9\n",
      "10\n"
     ]
    }
   ],
   "source": [
    "# While loops\n",
    "i=5\n",
    "#untill the condition holds true\n",
    "while i<10:\n",
    "    print(i)\n",
    "    i=i+1\n",
    "\n",
    "print(\"----------------BREAK - Exit Loop-----------\")\n",
    "\n",
    "a=5\n",
    "while a<10:\n",
    "    if a==7:\n",
    "        break\n",
    "    print(a)\n",
    "    a=a+1\n",
    "\n",
    "\n",
    "print(\"--------Continue - Skips Iteration----------\")\n",
    "\n",
    "i=4\n",
    "while i<10:\n",
    "    i=i+1\n",
    "    if i==7:\n",
    "        continue\n",
    "    else:\n",
    "        print(i)"
   ]
  }
 ],
 "metadata": {
  "kernelspec": {
   "display_name": "Python 3 (ipykernel)",
   "language": "python",
   "name": "python3"
  },
  "language_info": {
   "codemirror_mode": {
    "name": "ipython",
    "version": 3
   },
   "file_extension": ".py",
   "mimetype": "text/x-python",
   "name": "python",
   "nbconvert_exporter": "python",
   "pygments_lexer": "ipython3",
   "version": "3.10.5"
  }
 },
 "nbformat": 4,
 "nbformat_minor": 5
}
