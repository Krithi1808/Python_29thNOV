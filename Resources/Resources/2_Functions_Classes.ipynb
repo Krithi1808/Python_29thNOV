{
 "cells": [
  {
   "cell_type": "markdown",
   "id": "27dc0247",
   "metadata": {},
   "source": [
    "# 1. Functions"
   ]
  },
  {
   "cell_type": "markdown",
   "id": "d3568588",
   "metadata": {},
   "source": [
    "A group of related statements that perform a specific task is called as a <b>Function</b>."
   ]
  },
  {
   "cell_type": "markdown",
   "id": "ef79b00d",
   "metadata": {},
   "source": [
    "Functions help,\n",
    "\n",
    "1> Modularize the code<br/>\n",
    "2> Organized and easy to maintain<br/>\n",
    "3> Repetitive code can be avoided by putting up in a function<br/>"
   ]
  },
  {
   "cell_type": "markdown",
   "id": "3837a51a",
   "metadata": {},
   "source": [
    "###  Syntax:"
   ]
  },
  {
   "cell_type": "markdown",
   "id": "c72ffd49",
   "metadata": {},
   "source": [
    "    def function_name(arguments):\n",
    "    \n",
    "        \"\"\"\n",
    "        Doc String\n",
    "        \"\"\"\n",
    "    \n",
    "        Statement(s)"
   ]
  },
  {
   "cell_type": "markdown",
   "id": "b1658061",
   "metadata": {},
   "source": [
    "1. \"def\" keyword notifies the start of function header\n",
    "\n",
    "2. Arguments (parameters) through which we pass values to a function. These are optional\n",
    "\n",
    "3. A colon(:) to mark the end of funciton header\n",
    "\n",
    "4. Doc string describe what the function does. This is optional\n",
    "\n",
    "5. \"return\" statement to return a value from the function. This is optional"
   ]
  },
  {
   "cell_type": "markdown",
   "id": "5601524a",
   "metadata": {},
   "source": [
    "### Example:"
   ]
  },
  {
   "cell_type": "code",
   "execution_count": 1,
   "id": "d46a2761",
   "metadata": {},
   "outputs": [],
   "source": [
    "def hello_world(world):\n",
    "    \"\"\" \n",
    "    This function prints Hello world\n",
    "    \"\"\"\n",
    "    print(\"Hello \" + str(world)) \n",
    "    "
   ]
  },
  {
   "cell_type": "markdown",
   "id": "389e50be",
   "metadata": {},
   "source": [
    "### Function Call"
   ]
  },
  {
   "cell_type": "markdown",
   "id": "1335c03c",
   "metadata": {},
   "source": [
    "Once we have defined a function, we can call it from anywhere"
   ]
  },
  {
   "cell_type": "code",
   "execution_count": 2,
   "id": "1f29c066",
   "metadata": {},
   "outputs": [
    {
     "name": "stdout",
     "output_type": "stream",
     "text": [
      "Hello world\n"
     ]
    }
   ],
   "source": [
    "hello_world('world')                # Pass world to the function"
   ]
  },
  {
   "cell_type": "markdown",
   "id": "5f3aa80b",
   "metadata": {
    "collapsed": true
   },
   "source": [
    "### Doc String"
   ]
  },
  {
   "cell_type": "markdown",
   "id": "5a70e5b3",
   "metadata": {},
   "source": [
    "Docstring or short for documentation string is the first string after the function header that speaks about the function.<br/>\n",
    "Documentation(though optional) is a good programming practice and it is advisable that one always documents code<br/>\n",
    "It is surrounded by triple quotes so that it can extend up to multiple lines<br/>"
   ]
  },
  {
   "cell_type": "code",
   "execution_count": 3,
   "id": "ed5b4c70",
   "metadata": {},
   "outputs": [
    {
     "name": "stdout",
     "output_type": "stream",
     "text": [
      " \n",
      "    This function prints Hello world\n",
      "    \n"
     ]
    }
   ],
   "source": [
    "print(hello_world.__doc__)           # print doc string of the function\n"
   ]
  },
  {
   "cell_type": "markdown",
   "id": "32cbc761",
   "metadata": {},
   "source": [
    "### return Statement"
   ]
  },
  {
   "cell_type": "markdown",
   "id": "d2d06c92",
   "metadata": {},
   "source": [
    "The return statement is used to exit a function and go back to the place from where it was called."
   ]
  },
  {
   "cell_type": "markdown",
   "id": "4d590f4f",
   "metadata": {},
   "source": [
    "Syntax:\n",
    "    \n",
    "    return [expression]"
   ]
  },
  {
   "cell_type": "markdown",
   "id": "b0188a9f",
   "metadata": {},
   "source": [
    "- The return statement can contain an expression which gets evaluated and the value is returned.\n",
    "\n",
    "- For no expression in the statement or the return statement itself is not present inside a function, then the function returns <b>None</b> Object"
   ]
  },
  {
   "cell_type": "code",
   "execution_count": 4,
   "id": "6552425c",
   "metadata": {},
   "outputs": [],
   "source": [
    "def sum(numbers):\n",
    "    \"\"\"\n",
    "    This function returns the sum of all the numbers in a list\n",
    "    \"\"\"\n",
    "    \n",
    "    sum = 0\n",
    "    \n",
    "    for number in numbers:\n",
    "        sum += number\n",
    "    return sum\n"
   ]
  },
  {
   "cell_type": "code",
   "execution_count": 5,
   "id": "c2e908d1",
   "metadata": {},
   "outputs": [
    {
     "name": "stdout",
     "output_type": "stream",
     "text": [
      "12\n"
     ]
    }
   ],
   "source": [
    "sumOfNumbers = sum([2, 4, 6])\n",
    "print(sumOfNumbers)"
   ]
  },
  {
   "cell_type": "code",
   "execution_count": 6,
   "id": "cefbd280",
   "metadata": {},
   "outputs": [
    {
     "name": "stdout",
     "output_type": "stream",
     "text": [
      "\n",
      "    This function returns the sum of all the numbers in a list\n",
      "    \n"
     ]
    }
   ],
   "source": [
    "print(sum.__doc__)                                    # Print doc string"
   ]
  },
  {
   "cell_type": "markdown",
   "id": "f385ba90",
   "metadata": {},
   "source": [
    "# 2. Arguments in a function\n"
   ]
  },
  {
   "cell_type": "code",
   "execution_count": 7,
   "id": "504b4de2",
   "metadata": {},
   "outputs": [
    {
     "name": "stdout",
     "output_type": "stream",
     "text": [
      "Hello Suchit. welcome to the world of Python\n"
     ]
    }
   ],
   "source": [
    "def hello(name, msg):\n",
    "    \"\"\"\n",
    "    This function prints a message for a person\n",
    "    \"\"\"\n",
    "    print(f\"Hello {name}. {msg}\")\n",
    "\n",
    "hello(\"Suchit\", \"welcome to the world of Python\")                  # Pass the arguments to the function\n"
   ]
  },
  {
   "cell_type": "code",
   "execution_count": 8,
   "id": "c7e8f0a3",
   "metadata": {},
   "outputs": [
    {
     "ename": "TypeError",
     "evalue": "hello() missing 1 required positional argument: 'msg'",
     "output_type": "error",
     "traceback": [
      "\u001b[1;31m---------------------------------------------------------------------------\u001b[0m",
      "\u001b[1;31mTypeError\u001b[0m                                 Traceback (most recent call last)",
      "Input \u001b[1;32mIn [8]\u001b[0m, in \u001b[0;36m<cell line: 1>\u001b[1;34m()\u001b[0m\n\u001b[1;32m----> 1\u001b[0m \u001b[43mhello\u001b[49m\u001b[43m(\u001b[49m\u001b[38;5;124;43m\"\u001b[39;49m\u001b[38;5;124;43mSuchit\u001b[39;49m\u001b[38;5;124;43m\"\u001b[39;49m\u001b[43m)\u001b[49m\n",
      "\u001b[1;31mTypeError\u001b[0m: hello() missing 1 required positional argument: 'msg'"
     ]
    }
   ],
   "source": [
    "hello(\"Suchit\")                                  # What happens if I miss any argument"
   ]
  },
  {
   "cell_type": "markdown",
   "id": "d1b8d2c8",
   "metadata": {},
   "source": [
    "## Different Forms of Arguments"
   ]
  },
  {
   "cell_type": "markdown",
   "id": "23814e69",
   "metadata": {},
   "source": [
    "### Positional Arguments"
   ]
  },
  {
   "cell_type": "code",
   "execution_count": null,
   "id": "f3cebe24",
   "metadata": {},
   "outputs": [],
   "source": [
    "#positional\n",
    "#ith argument is passed to ith parameter\n",
    "\n",
    "def add(a,b):\n",
    "    return a+b\n",
    "\n",
    "print(add(2,3))"
   ]
  },
  {
   "cell_type": "markdown",
   "id": "af976ef5",
   "metadata": {},
   "source": [
    "### Keyword Arguments"
   ]
  },
  {
   "cell_type": "code",
   "execution_count": 9,
   "id": "17c1e471",
   "metadata": {},
   "outputs": [
    {
     "name": "stdout",
     "output_type": "stream",
     "text": [
      "1442930\n",
      "Krithika\n",
      "C2\n"
     ]
    }
   ],
   "source": [
    "#Keyword Arguments\n",
    "# Order doesnot matter\n",
    "def employee(id,name,grade):\n",
    "    print(id)\n",
    "    print(name)\n",
    "    print(grade)\n",
    "\n",
    "employee(name=\"Krithika\",id=1442930,grade=\"C2\")"
   ]
  },
  {
   "cell_type": "markdown",
   "id": "3fe41b38",
   "metadata": {},
   "source": [
    "### Default Arguments"
   ]
  },
  {
   "cell_type": "markdown",
   "id": "00ccb53c",
   "metadata": {},
   "source": [
    "Provision to pass default value to an argument by using the assignment operator (=). "
   ]
  },
  {
   "cell_type": "code",
   "execution_count": 10,
   "id": "2a884fe7",
   "metadata": {},
   "outputs": [
    {
     "name": "stdout",
     "output_type": "stream",
     "text": [
      "Hello Suchit , welcome to the world of Data Science\n"
     ]
    }
   ],
   "source": [
    "def hello(name, msg=\"welcome to the world of Python\"):\n",
    "    \n",
    "    print(\"Hello {0} , {1}\".format(name, msg))\n",
    "\n",
    "hello(\"Suchit\", \"welcome to the world of Data Science\")\n"
   ]
  },
  {
   "cell_type": "code",
   "execution_count": 11,
   "id": "e3e70e26",
   "metadata": {},
   "outputs": [
    {
     "name": "stdout",
     "output_type": "stream",
     "text": [
      "Hello Suchit , welcome to the world of Python\n"
     ]
    }
   ],
   "source": [
    "hello(\"Suchit\")                             # Without the msg argument"
   ]
  },
  {
   "cell_type": "markdown",
   "id": "e58f68d4",
   "metadata": {},
   "source": [
    "### Arbitary Arguments"
   ]
  },
  {
   "cell_type": "markdown",
   "id": "73afcd9c",
   "metadata": {},
   "source": [
    "Sometimes, we do not know in advance the number of arguments that will be passed into a function.<br/> Python allows us to handle this kind of situation through function calls with arbitrary number of arguments.<br/>\n",
    "These can be accessed by iterating over the argument collection"
   ]
  },
  {
   "cell_type": "markdown",
   "id": "6cbd356b",
   "metadata": {},
   "source": [
    "# Example:"
   ]
  },
  {
   "cell_type": "code",
   "execution_count": 12,
   "id": "92c61d29",
   "metadata": {},
   "outputs": [
    {
     "name": "stdout",
     "output_type": "stream",
     "text": [
      "('Suchit', 'Shireen', 'Roshni', 'Rakesh')\n",
      "Hello Suchit\n",
      "Hello Shireen\n",
      "Hello Roshni\n",
      "Hello Rakesh\n"
     ]
    }
   ],
   "source": [
    "def hello(*names):\n",
    "    \"\"\"\n",
    "    This function greets all persons in the names tuple \n",
    "    \"\"\"\n",
    "    print(names)\n",
    "    \n",
    "    for name in names:\n",
    "        print(\"Hello {0}\".format(name))\n",
    "\n",
    "hello(\"Suchit\", \"Shireen\", \"Roshni\", \"Rakesh\")"
   ]
  },
  {
   "cell_type": "markdown",
   "id": "f110410e",
   "metadata": {},
   "source": [
    "## Special Functions\n",
    "\n",
    "1. Lambda\n",
    "2. Map\n"
   ]
  },
  {
   "cell_type": "markdown",
   "id": "6b061741",
   "metadata": {},
   "source": [
    "## Lambda or Anonymous Functions"
   ]
  },
  {
   "cell_type": "markdown",
   "id": "48d844d5",
   "metadata": {},
   "source": [
    "In Python, <b>anonymous function</b> is a function that is defined without a name.\n",
    "\n",
    "While <b>normal functions</b> are defined using <b>def keyword</b>, <br/>in Python <b>anonymous functions</b> are defined using the <b>lambda keyword</b>.\n",
    "\n",
    "Lambda functions are used extensively along with built-in functions like filter(), map()"
   ]
  },
  {
   "cell_type": "markdown",
   "id": "3b428c69",
   "metadata": {},
   "source": [
    "<b>Syntax</b>:\n",
    "    \n",
    "    lambda arguments: expression"
   ]
  },
  {
   "cell_type": "markdown",
   "id": "c2b6fa18",
   "metadata": {},
   "source": [
    "# Example:"
   ]
  },
  {
   "cell_type": "code",
   "execution_count": 13,
   "id": "d4982051",
   "metadata": {},
   "outputs": [
    {
     "name": "stdout",
     "output_type": "stream",
     "text": [
      "100\n"
     ]
    }
   ],
   "source": [
    "def square(x):                   # In regular way we write the squaring function as beside\n",
    "    return x ** 2\n",
    "\n",
    "print(square(10))"
   ]
  },
  {
   "cell_type": "code",
   "execution_count": 14,
   "id": "e8318337",
   "metadata": {},
   "outputs": [
    {
     "name": "stdout",
     "output_type": "stream",
     "text": [
      "100\n"
     ]
    }
   ],
   "source": [
    "square = lambda x: x**2          # Using lambe we write the squaring function as beside\n",
    "\n",
    "print(square(10))"
   ]
  },
  {
   "cell_type": "markdown",
   "id": "c272a124",
   "metadata": {},
   "source": [
    "# Map()"
   ]
  },
  {
   "cell_type": "markdown",
   "id": "4b019ac9",
   "metadata": {},
   "source": [
    "Map applies a function to all the items in an input_list.<br/>\n",
    "<b>Syntax</b>: map(function_to_apply, list_of_inputs)"
   ]
  },
  {
   "cell_type": "code",
   "execution_count": 15,
   "id": "905a3991",
   "metadata": {},
   "outputs": [
    {
     "name": "stdout",
     "output_type": "stream",
     "text": [
      "[5.0, 5.5, 6.0, 6.5, 7.0]\n"
     ]
    }
   ],
   "source": [
    "numbers = [10, 11, 12, 13, 14]\n",
    "\n",
    "            \n",
    "half = []                        # Calculate half of each element in the list.\n",
    "for num in numbers:\n",
    "    half.append(num / 2)\n",
    "\n",
    "print(half)\n"
   ]
  },
  {
   "cell_type": "code",
   "execution_count": 16,
   "id": "5116a5ab",
   "metadata": {},
   "outputs": [
    {
     "name": "stdout",
     "output_type": "stream",
     "text": [
      "[5.0, 5.5, 6.0, 6.5, 7.0]\n"
     ]
    }
   ],
   "source": [
    "numbers = [10, 11, 12, 13, 14]\n",
    "\n",
    "def halfOfTheNumber(num):\n",
    "    return num / 2\n",
    "\n",
    "halves = list(map(halfOfTheNumber, numbers))           # Passing the calculation method to the map() function\n",
    "print(halves)\n"
   ]
  },
  {
   "cell_type": "code",
   "execution_count": null,
   "id": "2d9ff6a7",
   "metadata": {},
   "outputs": [],
   "source": []
  },
  {
   "cell_type": "markdown",
   "id": "1bd1d594",
   "metadata": {},
   "source": [
    "# 3. OOPS - Classes and Object"
   ]
  },
  {
   "cell_type": "code",
   "execution_count": 17,
   "id": "0e7d2c01",
   "metadata": {},
   "outputs": [
    {
     "name": "stdout",
     "output_type": "stream",
     "text": [
      "Constructor\n",
      "1442930\n",
      "Shalini\n",
      "Constructor\n",
      "1442931\n",
      "Shalini2\n",
      "--------------\n",
      "Shalini2 is with an EMPID 1442931\n"
     ]
    }
   ],
   "source": [
    "\n",
    "class Employee:\n",
    "    def __init__(self,a,b):  #self--> object that is calling that function\n",
    "        #(e1,1442930,Shalini)\n",
    "        print(\"Constructor\")\n",
    "        self.empid=a\n",
    "        self.empname=b\n",
    "\n",
    "\n",
    "    def details(self):\n",
    "        print(self.empid)\n",
    "        print(self.empname)\n",
    "        self.temp=5\n",
    "\n",
    "\n",
    "    def __str__(self):\n",
    "        return f\"{self.empname} is with an EMPID {self.empid}\"\n",
    "\n",
    "\n",
    "\n",
    "e1=Employee(1442930,\"Shalini\") # call the construtor\n",
    "e1.details()\n",
    "e2=Employee(1442931,\"Shalini2\") # call the construtor\n",
    "e2.details()\n",
    "print(\"--------------\")\n",
    "print(e2)\n",
    "\n",
    "\n",
    "\n",
    "\n",
    "\n",
    "\n"
   ]
  },
  {
   "cell_type": "markdown",
   "id": "34f88fc4",
   "metadata": {},
   "source": [
    "# 4. Inheritance\n",
    "\n",
    "\n",
    "- Allows us to define a class that inherits all the methods and properties from another class and can add new features to the class without modifying it.\n",
    "- Reusability of code with data protection\n",
    "- Parent class is the class being inherited from.\n",
    "- Child class is the class that inherits from another class.\n"
   ]
  },
  {
   "cell_type": "code",
   "execution_count": 18,
   "id": "945f34ff",
   "metadata": {},
   "outputs": [
    {
     "name": "stdout",
     "output_type": "stream",
     "text": [
      "inside child construtor\n",
      "Inside parent constructor\n",
      "FIRST :Krithika LAST: Ravi\n",
      "Python\n"
     ]
    }
   ],
   "source": [
    "class Employee:\n",
    "    def __init__(self,fname,lname):\n",
    "        print(\"Inside parent constructor\")\n",
    "        self.fname=fname\n",
    "        self.lname=lname\n",
    "\n",
    "    def __str__(self):\n",
    "        return self.fname\n",
    "\n",
    "    def display_employee(self):\n",
    "        print(f\"FIRST :{self.fname} LAST: {self.lname}\")\n",
    "\n",
    "\n",
    "\n",
    "class Developer(Employee):\n",
    "    def __init__(self,a,b,tech):\n",
    "        print(\"inside child construtor\")\n",
    "        super().__init__(a,b)#parent class construtor\n",
    "        self.tech=tech\n",
    "\n",
    "    def display_developer(self):\n",
    "        super().display_employee() #fname, lanem\n",
    "        print(self.tech)\n",
    "\n",
    "\n",
    "\n",
    "d1=Developer(\"Krithika\",\"Ravi\",\"Python\")\n",
    "d1.display_developer()\n"
   ]
  },
  {
   "cell_type": "code",
   "execution_count": null,
   "id": "83277a4c",
   "metadata": {},
   "outputs": [],
   "source": []
  }
 ],
 "metadata": {
  "kernelspec": {
   "display_name": "Python 3 (ipykernel)",
   "language": "python",
   "name": "python3"
  },
  "language_info": {
   "codemirror_mode": {
    "name": "ipython",
    "version": 3
   },
   "file_extension": ".py",
   "mimetype": "text/x-python",
   "name": "python",
   "nbconvert_exporter": "python",
   "pygments_lexer": "ipython3",
   "version": "3.10.5"
  }
 },
 "nbformat": 4,
 "nbformat_minor": 5
}
